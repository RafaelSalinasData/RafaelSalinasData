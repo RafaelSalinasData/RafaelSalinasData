{
 "cells": [
  {
   "cell_type": "markdown",
   "id": "0be85d12-ade5-4b8e-ac56-d2eb81e95d9e",
   "metadata": {},
   "source": [
    "# Tarea M25-CD – Rafael Salinas"
   ]
  },
  {
   "cell_type": "markdown",
   "id": "9d5a4786-cbdf-496a-a9b8-d289b94cf314",
   "metadata": {},
   "source": [
    "Para cada ejercicio es necesario realizar el código en Python sin utilizar la función estudiada, y además generar el código utilizando la función estudiada. Incluir un ejemplo por cada una."
   ]
  },
  {
   "cell_type": "markdown",
   "id": "72ab0404-ba51-4ec4-8e5c-4aa289d63341",
   "metadata": {},
   "source": [
    "# Función lambda para obtener la raíz cuadrada de un número."
   ]
  },
  {
   "cell_type": "markdown",
   "id": "bcf02726-87b6-49b1-91ab-447d2c45fa12",
   "metadata": {},
   "source": [
    "#Sin usar lambda\n",
    "def raiz_cuadrada(num):\n",
    "    return math.sqrt(num)\n",
    "\n",
    "print(\"Sin lambda:\", raiz_cuadrada(16))\n",
    "\n",
    "#Usando lambda\n",
    "raiz_lambda = lambda x: x ** 0.5\n",
    "print(\"Con lambda:\", raiz_lambda(16))"
   ]
  },
  {
   "cell_type": "code",
   "execution_count": 25,
   "id": "bb51b0a2-0d0f-4cac-8189-b663d8775b76",
   "metadata": {},
   "outputs": [
    {
     "name": "stdout",
     "output_type": "stream",
     "text": [
      "Sin lambda: 4.0\n",
      "Con lambda: 4.0\n"
     ]
    }
   ],
   "source": [
    "\n",
    "#Sin usar lambda\n",
    "def raiz_cuadrada(num):\n",
    "    return math.sqrt(num)\n",
    "\n",
    "print(\"Sin lambda:\", raiz_cuadrada(16))\n",
    "\n",
    "#Usando lambda\n",
    "raiz_lambda = lambda x: x ** 0.5\n",
    "print(\"Con lambda:\", raiz_lambda(16))"
   ]
  },
  {
   "cell_type": "markdown",
   "id": "5d8795c0-5a56-4e01-b8d3-7de8d09e9490",
   "metadata": {},
   "source": [
    "\n",
    "# Función map, para obtener el largo de una cadena de palabras. \n",
    "\n",
    "Tip! La cadena tiene que ser dividida en palabras antes de empezar. \n"
   ]
  },
  {
   "cell_type": "markdown",
   "id": "61c88066-43ce-420d-9cb3-79bba761813e",
   "metadata": {},
   "source": [
    "#Sin usar map\n",
    "cadena = \"El caballo se comio una manzana verde\"\n",
    "palabras = cadena.split()\n",
    "largos = []\n",
    "for palabra in palabras:\n",
    "    largos.append(len(palabra))\n",
    "\n",
    "print(\"Sin map:\", largos)\n",
    "\n",
    "#Usando map\n",
    "largos_map = list(map(len, palabras))\n",
    "print(\"Con map:\", largos_map)"
   ]
  },
  {
   "cell_type": "code",
   "execution_count": 26,
   "id": "015d2d00-c74c-468d-b619-5c256812b9ef",
   "metadata": {},
   "outputs": [
    {
     "name": "stdout",
     "output_type": "stream",
     "text": [
      "Sin map: [2, 7, 2, 5, 3, 7, 5]\n",
      "Con map: [2, 7, 2, 5, 3, 7, 5]\n"
     ]
    }
   ],
   "source": [
    "#Sin usar map\n",
    "cadena = \"El caballo se comio una manzana verde\"\n",
    "palabras = cadena.split()\n",
    "largos = []\n",
    "for palabra in palabras:\n",
    "    largos.append(len(palabra))\n",
    "\n",
    "print(\"Sin map:\", largos)\n",
    "\n",
    "#Usando map\n",
    "largos_map = list(map(len, palabras))\n",
    "print(\"Con map:\", largos_map)\n"
   ]
  },
  {
   "cell_type": "markdown",
   "id": "8ede921b-dcde-4bd0-ae6c-c84f5f2aba5e",
   "metadata": {},
   "source": [
    "# Función reduce, que sirva para calcular el producto de una lista "
   ]
  },
  {
   "cell_type": "markdown",
   "id": "b93e981c-d4ad-453e-bb10-57689ada827a",
   "metadata": {},
   "source": [
    "#Sin usar reduce\n",
    "numeros = [1, 2, 3, 4, 5]\n",
    "producto = 1\n",
    "for num in numeros:\n",
    "    producto *= num\n",
    "\n",
    "print(\"Sin reduce:\", producto)\n",
    "\n",
    "#Usando reduce\n",
    "from functools import reduce\n",
    "producto_reduce = reduce(lambda x, y: x * y, numeros)\n",
    "print(\"Con reduce:\", producto_reduce)"
   ]
  },
  {
   "cell_type": "code",
   "execution_count": 30,
   "id": "29a442ab-b6b8-43e0-b99d-fd5680cc8857",
   "metadata": {},
   "outputs": [
    {
     "name": "stdout",
     "output_type": "stream",
     "text": [
      "Sin reduce: 120\n",
      "Con reduce: 120\n"
     ]
    }
   ],
   "source": [
    "#Sin usar reduce\n",
    "numeros = [1, 2, 3, 4, 5]\n",
    "producto = 1\n",
    "for num in numeros:\n",
    "    producto *= num\n",
    "\n",
    "print(\"Sin reduce:\", producto)\n",
    "\n",
    "#Usando reduce\n",
    "from functools import reduce\n",
    "producto_reduce = reduce(lambda x, y: x * y, numeros)\n",
    "print(\"Con reduce:\", producto_reduce)\n"
   ]
  },
  {
   "cell_type": "markdown",
   "id": "9803ec57-9afa-4b96-99c3-3523721ef893",
   "metadata": {},
   "source": [
    "# Función filter que sirva para encontrar palabras que contengan mayúsculas o números en un listado "
   ]
  },
  {
   "cell_type": "markdown",
   "id": "d0c5ae9d-f7f1-43cb-89f3-2a978c8cd251",
   "metadata": {},
   "source": [
    "#Sin usar filter\n",
    "palabras = [\"Perro\", \"gato\", \"ratón\", \"perico2\", \"CONEJO\", \"123vibora\"]\n",
    "resultado = []\n",
    "for palabra in palabras:\n",
    "    for char in palabra:\n",
    "        if char.isupper() or char.isdigit():\n",
    "            resultado.append(palabra)\n",
    "            break\n",
    "\n",
    "#Usando filter\n",
    "print(\"Sin filter:\", resultado)\n",
    "resultado_filter = list(filter(lambda w: any(c.isupper() or c.isdigit() for c in w), palabras))\n",
    "print(\"Con filter:\", resultado_filter)"
   ]
  },
  {
   "cell_type": "code",
   "execution_count": 28,
   "id": "28f1de22-8e98-4394-b4c5-645be57e1b94",
   "metadata": {},
   "outputs": [
    {
     "name": "stdout",
     "output_type": "stream",
     "text": [
      "Sin filter: ['Perro', 'perico2', 'CONEJO', '123vibora']\n",
      "Con filter: ['Perro', 'perico2', 'CONEJO', '123vibora']\n"
     ]
    }
   ],
   "source": [
    "#Sin usar filter\n",
    "palabras = [\"Perro\", \"gato\", \"ratón\", \"perico2\", \"CONEJO\", \"123vibora\"]\n",
    "resultado = []\n",
    "for palabra in palabras:\n",
    "    for char in palabra:\n",
    "        if char.isupper() or char.isdigit():\n",
    "            resultado.append(palabra)\n",
    "            break\n",
    "\n",
    "#Usando filter\n",
    "print(\"Sin filter:\", resultado)\n",
    "resultado_filter = list(filter(lambda w: any(c.isupper() or c.isdigit() for c in w), palabras))\n",
    "print(\"Con filter:\", resultado_filter)"
   ]
  },
  {
   "cell_type": "code",
   "execution_count": null,
   "id": "9e9f1629-7bcc-49fd-9466-06e709139d18",
   "metadata": {},
   "outputs": [],
   "source": []
  }
 ],
 "metadata": {
  "kernelspec": {
   "display_name": "Python 3 (ipykernel)",
   "language": "python",
   "name": "python3"
  },
  "language_info": {
   "codemirror_mode": {
    "name": "ipython",
    "version": 3
   },
   "file_extension": ".py",
   "mimetype": "text/x-python",
   "name": "python",
   "nbconvert_exporter": "python",
   "pygments_lexer": "ipython3",
   "version": "3.12.7"
  }
 },
 "nbformat": 4,
 "nbformat_minor": 5
}
