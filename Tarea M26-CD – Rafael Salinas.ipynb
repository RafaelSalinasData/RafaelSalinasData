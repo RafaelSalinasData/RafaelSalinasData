{
 "cells": [
  {
   "cell_type": "markdown",
   "id": "0d3d5274-f834-4a03-9cac-4c90c488b853",
   "metadata": {},
   "source": [
    "# Tarea M26-CD – Rafael Salinas"
   ]
  },
  {
   "cell_type": "markdown",
   "id": "9516b282-5652-4957-ad1a-e2e9fb88d3bb",
   "metadata": {},
   "source": [
    "Height of Male and Female by Country 2022.csv"
   ]
  },
  {
   "cell_type": "code",
   "execution_count": 1,
   "id": "72d9399c-f198-4f88-91e0-63e1a509614f",
   "metadata": {},
   "outputs": [],
   "source": [
    "import os\n",
    "import pandas as pd\n",
    "import numpy as np\n",
    "import matplotlib.pyplot as plt\n"
   ]
  },
  {
   "cell_type": "markdown",
   "id": "5950b482-2aac-40a9-a6b6-7f87a9222669",
   "metadata": {},
   "source": [
    "Cambiar directorio a un directorio de su preferencia"
   ]
  },
  {
   "cell_type": "code",
   "execution_count": 15,
   "id": "d44dd3dd-eb5e-4442-ac18-856545c3e8df",
   "metadata": {},
   "outputs": [
    {
     "name": "stdout",
     "output_type": "stream",
     "text": [
      "BasesDeDatos: C:\\MiDirectorioAnalisis\n"
     ]
    }
   ],
   "source": [
    "nuevo_directorio = \"C:/MiDirectorioAnalisis\"\n",
    "os.makedirs(nuevo_directorio, exist_ok=True)\n",
    "os.chdir(nuevo_directorio)\n",
    "print(\"BasesDeDatos:\", os.getcwd())"
   ]
  },
  {
   "cell_type": "code",
   "execution_count": 3,
   "id": "752ee73b-0077-48b6-965a-f46d4e889a1c",
   "metadata": {},
   "outputs": [],
   "source": [
    "archivo_csv = \"C:/BasesDeDatos/Height of Male and Female by Country 2022.csv\"\n",
    "df = pd.read_csv(archivo_csv)\n"
   ]
  },
  {
   "cell_type": "markdown",
   "id": "fb050dc3-a3af-4d9c-9ffa-b88e7a5fb5af",
   "metadata": {},
   "source": [
    "Imprimir las primeras 50 líneas"
   ]
  },
  {
   "cell_type": "code",
   "execution_count": 5,
   "id": "da010c06-3893-4e2b-8f5c-3b413a4ff784",
   "metadata": {},
   "outputs": [
    {
     "name": "stdout",
     "output_type": "stream",
     "text": [
      "\n",
      "Primeras 50 líneas del dataset:\n",
      "    Rank                      Country Name  Male Height in Cm  \\\n",
      "0      1                       Netherlands             183.78   \n",
      "1      2                        Montenegro             183.30   \n",
      "2      3                           Estonia             182.79   \n",
      "3      4            Bosnia and Herzegovina             182.47   \n",
      "4      5                           Iceland             182.10   \n",
      "5      6                           Denmark             181.89   \n",
      "6      7                    Czech Republic             181.19   \n",
      "7      8                            Latvia             181.17   \n",
      "8      9                          Slovakia             181.02   \n",
      "9     10                          Slovenia             180.98   \n",
      "10    11                           Ukraine             180.98   \n",
      "11    12                           Croatia             180.76   \n",
      "12    13                            Serbia             180.74   \n",
      "13    14                         Lithuania             180.72   \n",
      "14    15                            Poland             180.69   \n",
      "15    16                           Finland             180.57   \n",
      "16    17                            Norway             180.48   \n",
      "17    18                            Sweden             180.46   \n",
      "18    19                           Germany             180.28   \n",
      "19    20                          Dominica             180.15   \n",
      "20    21                           Bermuda             179.72   \n",
      "21    22                       Puerto Rico             179.48   \n",
      "22    23                            Greece             179.26   \n",
      "23    24                           Belgium             179.09   \n",
      "24    25                           Ireland             179.04   \n",
      "25    26                           Lebanon             178.96   \n",
      "26    27                           Andorra             178.84   \n",
      "27    28               Antigua and Barbuda             178.84   \n",
      "28    29                         Australia             178.77   \n",
      "29    30                            Canada             178.75   \n",
      "30    31                       Switzerland             178.73   \n",
      "31    32                           Grenada             178.70   \n",
      "32    33                           Belarus             178.69   \n",
      "33    34                            France             178.60   \n",
      "34    35                           Austria             178.52   \n",
      "35    36                        Luxembourg             178.46   \n",
      "36    37                      Cook Islands             178.32   \n",
      "37    38                  French Polynesia             178.32   \n",
      "38    39                    United Kingdom             178.21   \n",
      "39    40                           Romania             177.82   \n",
      "40    41                       New Zealand             177.72   \n",
      "41    42  Saint Vincent and the Grenadines             177.49   \n",
      "42    43                              Niue             177.19   \n",
      "43    44                    American Samoa             177.09   \n",
      "44    45                          Barbados             177.03   \n",
      "45    46                           Jamaica             176.97   \n",
      "46    47                     United States             176.94   \n",
      "47    48                           Tunisia             176.85   \n",
      "48    49                            Russia             176.65   \n",
      "49    50                           Hungary             176.59   \n",
      "50    51                       Saint Lucia             176.43   \n",
      "\n",
      "    Female Height in Cm  Male Height in Ft  Female Height in Ft  \n",
      "0                170.36               6.03                 5.59  \n",
      "1                169.96               6.01                 5.58  \n",
      "2                168.66               6.00                 5.53  \n",
      "3                167.47               5.99                 5.49  \n",
      "4                168.91               5.97                 5.54  \n",
      "5                169.47               5.97                 5.56  \n",
      "6                167.96               5.94                 5.51  \n",
      "7                168.81               5.94                 5.54  \n",
      "8                167.12               5.94                 5.48  \n",
      "9                167.20               5.94                 5.49  \n",
      "10               166.62               5.94                 5.47  \n",
      "11               166.80               5.93                 5.47  \n",
      "12               168.29               5.93                 5.52  \n",
      "13               167.63               5.93                 5.50  \n",
      "14               165.78               5.93                 5.44  \n",
      "15               166.48               5.92                 5.46  \n",
      "16               166.45               5.92                 5.46  \n",
      "17               166.67               5.92                 5.47  \n",
      "18               166.18               5.91                 5.45  \n",
      "19               166.89               5.91                 5.48  \n",
      "20               166.11               5.90                 5.45  \n",
      "21               163.06               5.89                 5.35  \n",
      "22               165.81               5.88                 5.44  \n",
      "23               163.40               5.88                 5.36  \n",
      "24               164.50               5.87                 5.40  \n",
      "25               163.67               5.87                 5.37  \n",
      "26               165.53               5.87                 5.43  \n",
      "27               165.72               5.87                 5.44  \n",
      "28               164.67               5.87                 5.40  \n",
      "29               164.73               5.86                 5.40  \n",
      "30               164.33               5.86                 5.39  \n",
      "31               165.99               5.86                 5.45  \n",
      "32               166.93               5.86                 5.48  \n",
      "33               164.49               5.86                 5.40  \n",
      "34               166.93               5.86                 5.48  \n",
      "35               165.07               5.86                 5.42  \n",
      "36               167.31               5.85                 5.49  \n",
      "37               166.52               5.85                 5.46  \n",
      "38               163.94               5.85                 5.38  \n",
      "39               164.73               5.83                 5.40  \n",
      "40               164.66               5.83                 5.40  \n",
      "41               165.30               5.82                 5.42  \n",
      "42               167.03               5.81                 5.48  \n",
      "43               167.55               5.81                 5.50  \n",
      "44               165.66               5.81                 5.44  \n",
      "45               164.32               5.81                 5.39  \n",
      "46               163.31               5.81                 5.36  \n",
      "47               161.69               5.80                 5.30  \n",
      "48               164.52               5.80                 5.40  \n",
      "49               162.55               5.79                 5.33  \n",
      "50               165.52               5.79                 5.43  \n"
     ]
    }
   ],
   "source": [
    "print(\"\\nPrimeras 50 líneas del dataset:\")\n",
    "print(df.head(51))"
   ]
  },
  {
   "cell_type": "markdown",
   "id": "03a7459f-6464-44e1-854b-133ced00f093",
   "metadata": {},
   "source": [
    "Calcular la media, mínima y máxima altura de hombres y mujeres del data set completo "
   ]
  },
  {
   "cell_type": "code",
   "execution_count": 7,
   "id": "cdd7bb67-383e-43e6-868f-ad9eb01cd5c7",
   "metadata": {},
   "outputs": [],
   "source": [
    "def calcular_estadisticas(columna):\n",
    "    return {\n",
    "        'Media': np.mean(columna),\n",
    "        'Mínima': np.min(columna),\n",
    "        'Máxima': np.max(columna)\n",
    "    }"
   ]
  },
  {
   "cell_type": "markdown",
   "id": "deda1370-3841-4766-a7f7-e89d34ce63bc",
   "metadata": {},
   "source": [
    "Obtener la data de alturas de su país de origen"
   ]
  },
  {
   "cell_type": "code",
   "execution_count": 8,
   "id": "61bb6f2d-6433-4c73-b12e-a6a6e208997e",
   "metadata": {},
   "outputs": [
    {
     "name": "stdout",
     "output_type": "stream",
     "text": [
      "\n",
      "Estadísticas de altura de hombres (cm): {'Media': 173.08904522613065, 'Mínima': 160.13, 'Máxima': 183.78}\n",
      "Estadísticas de altura de mujeres (cm): {'Media': 160.9429145728643, 'Mínima': 150.91, 'Máxima': 170.36}\n"
     ]
    }
   ],
   "source": [
    "estadisticas_hombres = calcular_estadisticas(df[\"Male Height in Cm\"])\n",
    "estadisticas_mujeres = calcular_estadisticas(df[\"Female Height in Cm\"])\n",
    "\n",
    "print(\"\\nEstadísticas de altura de hombres (cm):\", estadisticas_hombres)\n",
    "print(\"Estadísticas de altura de mujeres (cm):\", estadisticas_mujeres)\n"
   ]
  },
  {
   "cell_type": "code",
   "execution_count": 9,
   "id": "6c1ee184-49fa-4b3e-926a-d7a0040aca48",
   "metadata": {},
   "outputs": [
    {
     "name": "stdout",
     "output_type": "stream",
     "text": [
      "\n",
      "Datos de México:\n",
      "     Rank Country Name  Male Height in Cm  Female Height in Cm  \\\n",
      "138   139       Mexico             170.29                157.9   \n",
      "\n",
      "     Male Height in Ft  Female Height in Ft  \n",
      "138               5.59                 5.18  \n"
     ]
    }
   ],
   "source": [
    "mexico_data = df[df['Country Name'].str.lower() == 'mexico']\n",
    "print(\"\\nDatos de México:\")\n",
    "print(mexico_data)"
   ]
  },
  {
   "cell_type": "markdown",
   "id": "f42b18fa-0cee-454e-99d0-e6a603e9da5f",
   "metadata": {},
   "source": [
    "Función lambda para obtener la raíz cuadrada de un número."
   ]
  },
  {
   "cell_type": "code",
   "execution_count": 11,
   "id": "35bd06e2-1fcc-4eff-ba8e-80baf2384eda",
   "metadata": {},
   "outputs": [],
   "source": [
    "#lambda para obtener raíz cuadrada de un número\n",
    "raiz_cuadrada = lambda x: x**0.5\n"
   ]
  },
  {
   "cell_type": "code",
   "execution_count": 14,
   "id": "904d23fd-523b-46f6-bda9-a58ee56c4de2",
   "metadata": {},
   "outputs": [
    {
     "data": {
      "image/png": "[encoded data removed]",
      "text/plain": [
       "<Figure size 800x500 with 1 Axes>"
      ]
     },
     "metadata": {},
     "output_type": "display_data"
    }
   ],
   "source": [
    "#Gráfico de barras de altura promedio por género\n",
    "plt.figure(figsize=(8, 5))\n",
    "plt.bar(['Hombres', 'Mujeres'], [estadisticas_hombres['Media'], estadisticas_mujeres['Media']], color=['green', 'red'])\n",
    "plt.title('Altura promedio por género (cm)')\n",
    "plt.ylabel('Altura (cm)')\n",
    "plt.grid(axis='y', linestyle='--', alpha=0.7)\n",
    "plt.tight_layout()\n",
    "plt.show()\n"
   ]
  },
  {
   "cell_type": "code",
   "execution_count": null,
   "id": "4cc46e37-d032-49a9-9ac6-4862122a920e",
   "metadata": {},
   "outputs": [],
   "source": []
  },
  {
   "cell_type": "code",
   "execution_count": null,
   "id": "cf6a58b7-f22a-46d8-a72a-a003bddd77a7",
   "metadata": {},
   "outputs": [],
   "source": []
  }
 ],
 "metadata": {
  "kernelspec": {
   "display_name": "Python 3 (ipykernel)",
   "language": "python",
   "name": "python3"
  },
  "language_info": {
   "codemirror_mode": {
    "name": "ipython",
    "version": 3
   },
   "file_extension": ".py",
   "mimetype": "text/x-python",
   "name": "python",
   "nbconvert_exporter": "python",
   "pygments_lexer": "ipython3",
   "version": "3.12.7"
  }
 },
 "nbformat": 4,
 "nbformat_minor": 5
}
