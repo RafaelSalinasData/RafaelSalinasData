{
 "cells": [
  {
   "cell_type": "markdown",
   "id": "72990b2e-0053-4deb-8727-02cd691af308",
   "metadata": {},
   "source": [
    "# Tarea M27-AD – Rafael Salinas"
   ]
  },
  {
   "cell_type": "code",
   "execution_count": 6,
   "id": "e4f05b81-8cbf-4a41-83e9-0f5fc289998c",
   "metadata": {},
   "outputs": [
    {
     "name": "stdout",
     "output_type": "stream",
     "text": [
      "Error: El archivo 'test.txt' no fue encontrado en el directorio.\n"
     ]
    }
   ],
   "source": [
    "# archivo que no existe\n",
    "try:\n",
    "    with open(\"test.txt\", \"r\") as archivo:\n",
    "        contenido = archivo.read()\n",
    "        print(contenido)\n",
    "except FileNotFoundError:\n",
    "    print(\"Error: El archivo 'test.txt' no fue encontrado en el directorio.\")\n",
    "except Exception as e:\n",
    "    print(f\"Ha ocurrido un error inesperado: {e}\")\n"
   ]
  },
  {
   "cell_type": "code",
   "execution_count": 7,
   "id": "83a62f92-be82-4d4e-9208-c88074d101b5",
   "metadata": {},
   "outputs": [
    {
     "name": "stdout",
     "output_type": "stream",
     "text": [
      "Error: No se puede dividir entre cero.\n",
      "Fin de la operación.\n"
     ]
    }
   ],
   "source": [
    "# try / except / else / finally\n",
    "numerador = 10\n",
    "denominador = 0\n",
    "\n",
    "try:\n",
    "    resultado = numerador / denominador\n",
    "except ZeroDivisionError:\n",
    "    print(\"Error: No se puede dividir entre cero.\")\n",
    "else:\n",
    "    print(f\"El resultado de la división es: {resultado}\")\n",
    "finally:\n",
    "    print(\"Fin de la operación.\")\n"
   ]
  },
  {
   "cell_type": "code",
   "execution_count": 3,
   "id": "3d78ce1b-6bb3-44a7-9bc7-f8d9b62e7db0",
   "metadata": {},
   "outputs": [
    {
     "name": "stdout",
     "output_type": "stream",
     "text": [
      "Paso 1 - Suma: 5 + 3 + 2 + 10 = 20\n",
      "Paso 2 - Error: División entre cero.\n"
     ]
    }
   ],
   "source": [
    "# debugging en una operación\n",
    "a = 5\n",
    "b = 3\n",
    "c = 2\n",
    "d = 10\n",
    "\n",
    "# suma de los números\n",
    "suma = a + b + c + d\n",
    "print(f\"Paso 1 - Suma: {a} + {b} + {c} + {d} = {suma}\")\n",
    "\n",
    "# intentar dividir entre cero\n",
    "try:\n",
    "    division = suma / 0  # Esto generará un error\n",
    "    print(f\"Paso 2 - División: {suma} / 0 = {division}\")\n",
    "except ZeroDivisionError:\n",
    "    print(\"Paso 2 - Error: División entre cero.\")\n"
   ]
  },
  {
   "cell_type": "code",
   "execution_count": 8,
   "id": "3776a55a-5419-4454-95d0-f4103e4b9b82",
   "metadata": {},
   "outputs": [
    {
     "name": "stdout",
     "output_type": "stream",
     "text": [
      "Intentando abrir el archivo...\n",
      "Error: Archivo no encontrado.\n",
      "Finalizando el bloque de operaciones.\n"
     ]
    }
   ],
   "source": [
    "# Ejemplo que combina:\n",
    "# 1. archivo inexistente\n",
    "# 2. try/except/else/finally\n",
    "# 3. debugging de operación\n",
    "\n",
    "try:\n",
    "    print(\"Intentando abrir el archivo...\")\n",
    "    with open(\"test.txt\", \"r\") as f:\n",
    "        contenido = f.read()\n",
    "        print(\"Contenido del archivo leído exitosamente.\")\n",
    "    \n",
    "    print(\"Realizando operación matemática...\")\n",
    "    resultado = (4 + 4 + 4 + 4) / 0  # Error intencional\n",
    "except FileNotFoundError:\n",
    "    print(\"Error: Archivo no encontrado.\")\n",
    "except ZeroDivisionError:\n",
    "    print(\"Error: División entre cero no permitida.\")\n",
    "except Exception as e:\n",
    "    print(f\"Error inesperado: {e}\")\n",
    "else:\n",
    "    print(f\"Resultado correcto: {resultado}\")\n",
    "finally:\n",
    "    print(\"Finalizando el bloque de operaciones.\")\n"
   ]
  },
  {
   "cell_type": "code",
   "execution_count": null,
   "id": "43196a9b-8b0e-4bdf-b403-98c7a29342cb",
   "metadata": {},
   "outputs": [],
   "source": []
  }
 ],
 "metadata": {
  "kernelspec": {
   "display_name": "Python 3 (ipykernel)",
   "language": "python",
   "name": "python3"
  },
  "language_info": {
   "codemirror_mode": {
    "name": "ipython",
    "version": 3
   },
   "file_extension": ".py",
   "mimetype": "text/x-python",
   "name": "python",
   "nbconvert_exporter": "python",
   "pygments_lexer": "ipython3",
   "version": "3.12.7"
  }
 },
 "nbformat": 4,
 "nbformat_minor": 5
}
