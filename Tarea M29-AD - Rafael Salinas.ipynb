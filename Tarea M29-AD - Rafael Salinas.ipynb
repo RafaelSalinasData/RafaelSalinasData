{
 "cells": [
  {
   "cell_type": "code",
   "execution_count": null,
   "id": "05eb6359-aa7d-41b9-8ad1-f69ef34f0939",
   "metadata": {},
   "outputs": [],
   "source": [
    "Tarea M29-AD - Rafael Salinas"
   ]
  },
  {
   "cell_type": "code",
   "execution_count": 2,
   "id": "b7029521-6271-4bfe-9056-87db5b3327db",
   "metadata": {},
   "outputs": [
    {
     "name": "stdout",
     "output_type": "stream",
     "text": [
      "Contenido HTML del sitio:\n",
      "<!DOCTYPE html>\n",
      "<html>\n",
      "  <head>\n",
      "  </head>\n",
      "  <body>\n",
      "      <h1>Herman Melville - Moby-Dick</h1>\n",
      "\n",
      "      <div>\n",
      "        <p>\n",
      "          Availing himself of the mild, summer-cool weather that now reigned in these latitudes, and in preparation for the peculiarly active pursuits shortly to be anticipated, Perth, the begrimed, blistered old blacksmith, had not removed his portable forge to the hold again, after concluding his contributory work for Ahab's leg, but still retained it on deck, fast lashed to r\n",
      "\n",
      "Listado de productos encontrados en MercadoLibre:\n",
      "\n",
      "Ejemplo de respuesta de API:\n",
      "{\n",
      "    \"fact\": \"At 4 weeks, it is important to play with kittens so that they do not develope a fear of people.\",\n",
      "    \"length\": 95\n",
      "}\n"
     ]
    }
   ],
   "source": [
    "import requests\n",
    "from bs4 import BeautifulSoup\n",
    "import json\n",
    "\n",
    "#Importación de sitio web con requests\n",
    "\n",
    "url = \"https://httpbin.org/html\"\n",
    "response = requests.get(url)\n",
    "print(\"Contenido HTML del sitio:\")\n",
    "print(response.text[:500])  # primeros 500 caracteres\n",
    "\n",
    "# BeautifulSoup y requests\n",
    "\n",
    "url_ml = \"https://listado.mercadolibre.com.mx/laptop\"\n",
    "headers = {'User-Agent': 'Mozilla/5.0'}\n",
    "response_ml = requests.get(url_ml, headers=headers)\n",
    "soup = BeautifulSoup(response_ml.content, \"html.parser\")\n",
    "\n",
    "# Obtención de títulos de productos\n",
    "items = soup.find_all(\"h2\", class_=\"ui-search-item__title\")\n",
    "print(\"\\nListado de productos encontrados en MercadoLibre:\")\n",
    "for idx, item in enumerate(items[:10], 1):\n",
    "    print(f\"{idx}. {item.text}\")\n",
    "\n",
    "#Uso de requests con API\n",
    "\n",
    "api_url = \"https://catfact.ninja/fact\"\n",
    "response_api = requests.get(api_url)\n",
    "data = response_api.json()\n",
    "\n",
    "print(\"\\nEjemplo de respuesta de API:\")\n",
    "print(json.dumps(data, indent=4))"
   ]
  }
 ],
 "metadata": {
  "kernelspec": {
   "display_name": "Python 3 (ipykernel)",
   "language": "python",
   "name": "python3"
  },
  "language_info": {
   "codemirror_mode": {
    "name": "ipython",
    "version": 3
   },
   "file_extension": ".py",
   "mimetype": "text/x-python",
   "name": "python",
   "nbconvert_exporter": "python",
   "pygments_lexer": "ipython3",
   "version": "3.12.7"
  }
 },
 "nbformat": 4,
 "nbformat_minor": 5
}
