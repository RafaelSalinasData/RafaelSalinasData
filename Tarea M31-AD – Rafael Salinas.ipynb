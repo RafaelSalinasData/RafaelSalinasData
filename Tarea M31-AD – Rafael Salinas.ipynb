{
 "cells": [
  {
   "cell_type": "code",
   "execution_count": 1,
   "id": "62759b44-de2b-465d-bf1a-7cde178c699b",
   "metadata": {},
   "outputs": [],
   "source": [
    "#Importar librerías\n",
    "import pandas as pd\n",
    "import numpy as np\n",
    "from datetime import datetime"
   ]
  },
  {
   "cell_type": "code",
   "execution_count": 2,
   "id": "ad0a663f-454f-420a-9bfe-30ca67d7e72e",
   "metadata": {},
   "outputs": [],
   "source": [
    "# leer archivo fifa\n",
    "df = pd.read_csv(\"fifa_eda.csv\")"
   ]
  },
  {
   "cell_type": "code",
   "execution_count": 7,
   "id": "0d2ae76e-8ef8-47f0-bab9-84ef2f227f0f",
   "metadata": {},
   "outputs": [
    {
     "name": "stdout",
     "output_type": "stream",
     "text": [
      "=== Primeras 20 líneas ===\n",
      "        ID               Name  Age Nationality  Overall  Potential  \\\n",
      "0   158023           L. Messi   31   Argentina       94         94   \n",
      "1    20801  Cristiano Ronaldo   33    Portugal       94         94   \n",
      "2   190871          Neymar Jr   26      Brazil       92         93   \n",
      "3   193080             De Gea   27       Spain       91         93   \n",
      "4   192985       K. De Bruyne   27     Belgium       91         92   \n",
      "5   183277          E. Hazard   27     Belgium       91         91   \n",
      "6   177003          L. Modrić   32     Croatia       91         91   \n",
      "7   176580          L. Suárez   31     Uruguay       91         91   \n",
      "8   155862       Sergio Ramos   32       Spain       91         91   \n",
      "9   200389           J. Oblak   25    Slovenia       90         93   \n",
      "10  188545     R. Lewandowski   29      Poland       90         90   \n",
      "11  182521           T. Kroos   28     Germany       90         90   \n",
      "12  182493           D. Godín   32     Uruguay       90         90   \n",
      "13  168542        David Silva   32       Spain       90         90   \n",
      "14  215914           N. Kanté   27      France       89         90   \n",
      "15  211110          P. Dybala   24   Argentina       89         94   \n",
      "16  202126            H. Kane   24     England       89         91   \n",
      "17  194765       A. Griezmann   27      France       89         90   \n",
      "18  192448      M. ter Stegen   26     Germany       89         92   \n",
      "19  192119        T. Courtois   26     Belgium       89         90   \n",
      "\n",
      "                   Club     Value   Wage Preferred Foot  \\\n",
      "0          FC Barcelona  110500.0  565.0           Left   \n",
      "1              Juventus   77000.0  405.0          Right   \n",
      "2   Paris Saint-Germain  118500.0  290.0          Right   \n",
      "3     Manchester United   72000.0  260.0          Right   \n",
      "4       Manchester City  102000.0  355.0          Right   \n",
      "5               Chelsea   93000.0  340.0          Right   \n",
      "6           Real Madrid   67000.0  420.0          Right   \n",
      "7          FC Barcelona   80000.0  455.0          Right   \n",
      "8           Real Madrid   51000.0  380.0          Right   \n",
      "9       Atlético Madrid   68000.0   94.0          Right   \n",
      "10    FC Bayern München   77000.0  205.0          Right   \n",
      "11          Real Madrid   76500.0  355.0          Right   \n",
      "12      Atlético Madrid   44000.0  125.0          Right   \n",
      "13      Manchester City   60000.0  285.0           Left   \n",
      "14              Chelsea   63000.0  225.0          Right   \n",
      "15             Juventus   89000.0  205.0           Left   \n",
      "16    Tottenham Hotspur   83500.0  205.0          Right   \n",
      "17      Atlético Madrid   78000.0  145.0           Left   \n",
      "18         FC Barcelona   58000.0  240.0          Right   \n",
      "19          Real Madrid   53500.0  240.0           Left   \n",
      "\n",
      "    International Reputation  Skill Moves Position  Joined  \\\n",
      "0                        5.0          4.0       RF    2004   \n",
      "1                        5.0          5.0       ST    2018   \n",
      "2                        5.0          5.0       LW    2017   \n",
      "3                        4.0          1.0       GK    2011   \n",
      "4                        4.0          4.0      RCM    2015   \n",
      "5                        4.0          4.0       LF    2012   \n",
      "6                        4.0          4.0      RCM    2012   \n",
      "7                        5.0          3.0       RS    2014   \n",
      "8                        4.0          3.0      RCB    2005   \n",
      "9                        3.0          1.0       GK    2014   \n",
      "10                       4.0          4.0       ST    2014   \n",
      "11                       4.0          3.0      LCM    2014   \n",
      "12                       3.0          2.0       CB    2010   \n",
      "13                       4.0          4.0      LCM    2010   \n",
      "14                       3.0          2.0      LDM    2016   \n",
      "15                       3.0          4.0       LF    2015   \n",
      "16                       3.0          3.0       ST    2010   \n",
      "17                       4.0          4.0      CAM    2014   \n",
      "18                       3.0          1.0       GK    2014   \n",
      "19                       4.0          1.0       GK    2018   \n",
      "\n",
      "   Contract Valid Until    Height  Weight  Release Clause  \n",
      "0            2021-01-01  5.583333   159.0        226500.0  \n",
      "1            2022-01-01  6.166667   183.0        127100.0  \n",
      "2            2022-01-01  5.750000   150.0        228100.0  \n",
      "3            2020-01-01  6.333333   168.0        138600.0  \n",
      "4            2023-01-01  5.916667   154.0        196400.0  \n",
      "5            2020-01-01  5.666667   163.0        172100.0  \n",
      "6            2020-01-01  5.666667   146.0        137400.0  \n",
      "7            2021-01-01  6.000000   190.0        164000.0  \n",
      "8            2020-01-01  6.000000   181.0        104600.0  \n",
      "9            2021-01-01  6.166667   192.0        144500.0  \n",
      "10           2021-01-01  6.000000   176.0        127100.0  \n",
      "11           2022-01-01  6.000000   168.0        156800.0  \n",
      "12           2019-01-01  6.166667   172.0         90200.0  \n",
      "13           2020-01-01  5.666667   148.0        111000.0  \n",
      "14           2023-01-01  5.500000   159.0        121300.0  \n",
      "15           2022-01-01  5.833333   165.0        153500.0  \n",
      "16           2024-01-01  6.166667   196.0        160700.0  \n",
      "17           2023-01-01  5.750000   161.0        165800.0  \n",
      "18           2022-01-01  6.166667   187.0        123300.0  \n",
      "19           2024-01-01  6.500000   212.0        113700.0  \n"
     ]
    }
   ],
   "source": [
    "# primeras 20 lineas\n",
    "print(\"=== Primeras 20 líneas ===\")\n",
    "print(df.head(20))"
   ]
  },
  {
   "cell_type": "code",
   "execution_count": 8,
   "id": "824adfc9-3686-44ff-a99c-6d2a7eb43fbd",
   "metadata": {},
   "outputs": [
    {
     "name": "stdout",
     "output_type": "stream",
     "text": [
      "\n",
      "=== Media, mínimo y máximo generales ===\n",
      "        Overall  Potential\n",
      "mean  66.238699  71.307299\n",
      "min   46.000000  48.000000\n",
      "max   94.000000  95.000000\n"
     ]
    }
   ],
   "source": [
    "#Estadistica Media, Minimo y Maximo\n",
    "print(\"\\n=== Media, mínimo y máximo generales ===\")\n",
    "print(df[['Overall', 'Potential']].agg(['mean', 'min', 'max']))"
   ]
  },
  {
   "cell_type": "code",
   "execution_count": 9,
   "id": "fee64af4-98d2-4e2f-9800-cd9e951abab5",
   "metadata": {},
   "outputs": [
    {
     "name": "stdout",
     "output_type": "stream",
     "text": [
      "\n",
      "=== Media, mínimo y máximo por país ===\n",
      "                     Overall          Potential        \n",
      "                        mean min max       mean min max\n",
      "Nationality                                            \n",
      "Afghanistan        61.000000  59  63  67.750000  64  71\n",
      "Albania            65.925000  52  81  71.700000  62  86\n",
      "Algeria            70.633333  58  85  72.983333  62  85\n",
      "Andorra            62.000000  62  62  64.000000  64  64\n",
      "Angola             67.600000  60  78  71.533333  64  82\n",
      "Antigua & Barbuda  62.500000  58  69  67.750000  63  77\n",
      "Argentina          68.572038  51  94  73.210245  57  94\n",
      "Armenia            69.000000  63  83  71.800000  66  83\n",
      "Australia          62.652542  50  79  68.360169  56  83\n",
      "Austria            64.916107  48  85  69.845638  58  87\n"
     ]
    }
   ],
   "source": [
    "# Por Pais\n",
    "print(\"\\n=== Media, mínimo y máximo por país ===\")\n",
    "print(df.groupby('Nationality')[['Overall', 'Potential']].agg(['mean', 'min', 'max']).head(10))\n"
   ]
  },
  {
   "cell_type": "code",
   "execution_count": 13,
   "id": "30d85cba-2721-430c-a93f-6522c73cf99e",
   "metadata": {},
   "outputs": [
    {
     "name": "stdout",
     "output_type": "stream",
     "text": [
      "\n",
      "=== Últimas filas con jugadores ficticios ===\n",
      "           ID        Name  Age Nationality  Overall  Potential  \\\n",
      "18206  246269   G. Nugent   16     England       46         66   \n",
      "18207  999001  Player One   25    Atlantis       90         92   \n",
      "18208  999002  Player Two   20   El Dorado       88         95   \n",
      "18209  999001  Player One   25    Atlantis       90         92   \n",
      "18210  999002  Player Two   20   El Dorado       88         95   \n",
      "\n",
      "                  Club     Value   Wage Preferred Foot  \\\n",
      "18206  Tranmere Rovers      60.0    1.0          Right   \n",
      "18207       Fantasy FC  100000.0  500.0          Right   \n",
      "18208   Legends United  150000.0  600.0           Left   \n",
      "18209       Fantasy FC  100000.0  500.0          Right   \n",
      "18210   Legends United  150000.0  600.0           Left   \n",
      "\n",
      "       International Reputation  Skill Moves Position  Joined  \\\n",
      "18206                       1.0          2.0       CM    2018   \n",
      "18207                       3.0          4.0       ST    2020   \n",
      "18208                       4.0          5.0       LW    2021   \n",
      "18209                       3.0          4.0       ST    2020   \n",
      "18210                       4.0          5.0       LW    2021   \n",
      "\n",
      "      Contract Valid Until    Height  Weight  Release Clause  \n",
      "18206           2019-01-01  5.833333   176.0           165.0  \n",
      "18207           2025-01-01  6.000000   170.0        200000.0  \n",
      "18208           2026-01-01  5.900000   160.0        250000.0  \n",
      "18209           2025-01-01  6.000000   170.0        200000.0  \n",
      "18210           2026-01-01  5.900000   160.0        250000.0  \n"
     ]
    }
   ],
   "source": [
    "# agregar jugadores ficticios\n",
    "player1 = {\n",
    "    'ID': 999001, 'Name': 'Player One', 'Age': 25, 'Nationality': 'Atlantis', 'Overall': 90,\n",
    "    'Potential': 92, 'Club': 'Fantasy FC', 'Value': 100000.0, 'Wage': 500.0, 'Preferred Foot': 'Right',\n",
    "    'International Reputation': 3.0, 'Skill Moves': 4.0, 'Position': 'ST', 'Joined': 2020,\n",
    "    'Contract Valid Until': '2025-01-01', 'Height': 6.0, 'Weight': 170.0, 'Release Clause': 200000.0\n",
    "}\n",
    "player2 = {\n",
    "    'ID': 999002, 'Name': 'Player Two', 'Age': 20, 'Nationality': 'El Dorado', 'Overall': 88,\n",
    "    'Potential': 95, 'Club': 'Legends United', 'Value': 150000.0, 'Wage': 600.0, 'Preferred Foot': 'Left',\n",
    "    'International Reputation': 4.0, 'Skill Moves': 5.0, 'Position': 'LW', 'Joined': 2021,\n",
    "    'Contract Valid Until': '2026-01-01', 'Height': 5.9, 'Weight': 160.0, 'Release Clause': 250000.0}\n",
    "\n",
    "    # añadir jugadores al dataframe\n",
    "df_new = pd.DataFrame([player1, player2])\n",
    "df = pd.concat([df, df_new], ignore_index=True)\n",
    "\n",
    "print(\"\\n=== Últimas filas con jugadores ficticios ===\")\n",
    "print(df.tail())"
   ]
  },
  {
   "cell_type": "code",
   "execution_count": 14,
   "id": "5de6550e-f11f-4ea4-9a86-49a282ea5b66",
   "metadata": {},
   "outputs": [
    {
     "name": "stdout",
     "output_type": "stream",
     "text": [
      "\n",
      "=== Nuevas estadísticas generales ===\n",
      "        Overall  Potential\n",
      "mean  66.243699  71.312174\n",
      "min   46.000000  48.000000\n",
      "max   94.000000  95.000000\n",
      "\n",
      "=== Nuevas estadísticas por país ===\n",
      "                        Overall          Potential        \n",
      "                           mean min max       mean min max\n",
      "Nationality                                               \n",
      "Uganda                62.500000  54  70  68.333333  64  74\n",
      "Ukraine               70.424658  52  82  75.095890  60  88\n",
      "United Arab Emirates  77.000000  77  77  78.000000  78  78\n",
      "United States         65.172805  50  79  70.515581  55  87\n",
      "Uruguay               70.429530  54  91  73.382550  58  91\n",
      "Uzbekistan            67.500000  60  75  67.500000  60  75\n",
      "Venezuela             67.268657  53  81  73.149254  55  84\n",
      "Wales                 64.139535  47  88  69.968992  56  88\n",
      "Zambia                65.222222  56  73  73.777778  66  83\n",
      "Zimbabwe              69.769231  64  78  72.461538  66  83\n"
     ]
    }
   ],
   "source": [
    "# estadisticas de jugadores ficticios\n",
    "\n",
    "print(\"\\n=== Nuevas estadísticas generales ===\")\n",
    "print(df[['Overall', 'Potential']].agg(['mean', 'min', 'max']))\n",
    "\n",
    "print(\"\\n=== Nuevas estadísticas por país ===\")\n",
    "print(df.groupby('Nationality')[['Overall', 'Potential']].agg(['mean', 'min', 'max']).tail(10))\n"
   ]
  },
  {
   "cell_type": "code",
   "execution_count": 17,
   "id": "44c56af4-abd8-46ed-86ef-885932165a14",
   "metadata": {},
   "outputs": [
    {
     "name": "stdout",
     "output_type": "stream",
     "text": [
      "\n",
      "=== Zona horaria y capital añadidas ===\n",
      "                     Name          Nationality Timezone   Capital\n",
      "18201            D. Walsh  Republic of Ireland  Unknown   Unknown\n",
      "18202        J. Lundstram              England  Unknown   Unknown\n",
      "18203  N. Christoffersson               Sweden  Unknown   Unknown\n",
      "18204           B. Worman              England  Unknown   Unknown\n",
      "18205      D. Walker-Rice              England  Unknown   Unknown\n",
      "18206           G. Nugent              England  Unknown   Unknown\n",
      "18207          Player One             Atlantis    GMT+2  Poseidon\n",
      "18208          Player Two            El Dorado    GMT-4  Oroville\n",
      "18209          Player One             Atlantis    GMT+2  Poseidon\n",
      "18210          Player Two            El Dorado    GMT-4  Oroville\n"
     ]
    }
   ],
   "source": [
    "# Lambda para añadir zona horaria y capital\n",
    "country_info = {\n",
    "    'Argentina': ('GMT-3', 'Buenos Aires'),\n",
    "    'Portugal': ('GMT+0', 'Lisbon'),\n",
    "    'Brazil': ('GMT-3', 'Brasilia'),\n",
    "    'Spain': ('GMT+1', 'Madrid'),\n",
    "    'Belgium': ('GMT+1', 'Brussels'),\n",
    "    'Mexico': ('GMT-6', 'Mexico City'),\n",
    "    'Atlantis': ('GMT+2', 'Poseidon'),\n",
    "    'El Dorado': ('GMT-4', 'Oroville')\n",
    "}\n",
    "\n",
    "df['Timezone'] = df['Nationality'].apply(lambda x: country_info.get(x, ('Unknown', 'Unknown'))[0])\n",
    "df['Capital'] = df['Nationality'].apply(lambda x: country_info.get(x, ('Unknown', 'Unknown'))[1])\n",
    "\n",
    "print(\"\\n=== Zona horaria y capital añadidas ===\")\n",
    "print(df[['Name', 'Nationality', 'Timezone', 'Capital']].tail(10))"
   ]
  },
  {
   "cell_type": "code",
   "execution_count": 19,
   "id": "4e2251b8-96ae-457b-b9c1-236ef37fa932",
   "metadata": {},
   "outputs": [
    {
     "name": "stdout",
     "output_type": "stream",
     "text": [
      "\n",
      "=== Jugadores candidatos al balón de oro ===\n",
      "                     Name  Potential Ballon dOr\n",
      "18201            D. Walsh         68  Next Year\n",
      "18202        J. Lundstram         65  Next Year\n",
      "18203  N. Christoffersson         63  Next Year\n",
      "18204           B. Worman         67  Next Year\n",
      "18205      D. Walker-Rice         66  Next Year\n",
      "18206           G. Nugent         66  Next Year\n",
      "18207          Player One         92  Candidato\n",
      "18208          Player Two         95  Candidato\n",
      "18209          Player One         92  Candidato\n",
      "18210          Player Two         95  Candidato\n"
     ]
    }
   ],
   "source": [
    "#Lambda para definir candidatos al balón de oro\n",
    "df['Ballon dOr'] = df['Potential'].apply(lambda x: 'Candidato' if x > 85 else 'Next Year')\n",
    "\n",
    "print(\"\\n=== Jugadores candidatos al balón de oro ===\")\n",
    "print(df[['Name', 'Potential', 'Ballon dOr']].tail(10))"
   ]
  },
  {
   "cell_type": "code",
   "execution_count": null,
   "id": "54cd0016-8892-467f-99e3-46f62bfc5071",
   "metadata": {},
   "outputs": [],
   "source": []
  }
 ],
 "metadata": {
  "kernelspec": {
   "display_name": "Python 3 (ipykernel)",
   "language": "python",
   "name": "python3"
  },
  "language_info": {
   "codemirror_mode": {
    "name": "ipython",
    "version": 3
   },
   "file_extension": ".py",
   "mimetype": "text/x-python",
   "name": "python",
   "nbconvert_exporter": "python",
   "pygments_lexer": "ipython3",
   "version": "3.12.7"
  }
 },
 "nbformat": 4,
 "nbformat_minor": 5
}
