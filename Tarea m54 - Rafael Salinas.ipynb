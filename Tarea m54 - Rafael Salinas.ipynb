{
 "cells": [
  {
   "cell_type": "markdown",
   "id": "2ee0d861-7715-4b21-90fc-a5e0764e3768",
   "metadata": {},
   "source": [
    "# CARGA DE DATOS PARA ANALISIS EN PYTHON"
   ]
  },
  {
   "cell_type": "code",
   "execution_count": 1,
   "id": "4a2655c4-9b03-47a4-a115-cf86eef7bf0b",
   "metadata": {},
   "outputs": [
    {
     "name": "stdout",
     "output_type": "stream",
     "text": [
      "      price  area  bedrooms  bathrooms  stories mainroad guestroom basement  \\\n",
      "0  13300000  7420         4          2        3      yes        no       no   \n",
      "1  12250000  8960         4          4        4      yes        no       no   \n",
      "2  12250000  9960         3          2        2      yes        no      yes   \n",
      "3  12215000  7500         4          2        2      yes        no      yes   \n",
      "4  11410000  7420         4          1        2      yes       yes      yes   \n",
      "\n",
      "  hotwaterheating airconditioning  parking prefarea furnishingstatus  year  \\\n",
      "0              no             yes        2      yes        furnished  2015   \n",
      "1              no             yes        3       no        furnished  2016   \n",
      "2              no              no        2      yes   semi-furnished  2017   \n",
      "3              no             yes        3      yes        furnished  2015   \n",
      "4              no             yes        2       no        furnished  2016   \n",
      "\n",
      "   zipcode  \n",
      "0    33213  \n",
      "1    33214  \n",
      "2    33215  \n",
      "3    33213  \n",
      "4    33214  \n"
     ]
    }
   ],
   "source": [
    "# Importar la librería pandas\n",
    "import pandas as pd\n",
    "\n",
    "# Cargar el archivo CSV en un DataFrame\n",
    "df_housing = pd.read_csv('Housing.csv')\n",
    "\n",
    "# Mostrar las primeras filas para verificar que se cargó correctamente\n",
    "print(df_housing.head())"
   ]
  },
  {
   "cell_type": "markdown",
   "id": "0a5f9d88-5d6d-4de8-8775-ee4eb4b0edbc",
   "metadata": {},
   "source": [
    "# 3 ANALISIS ADICIONALES"
   ]
  },
  {
   "cell_type": "code",
   "execution_count": 2,
   "id": "b010b375-532f-4007-a0df-6a01a8baa84f",
   "metadata": {},
   "outputs": [
    {
     "name": "stdout",
     "output_type": "stream",
     "text": [
      "Número de casas con más de 2 baños y 3 o más dormitorios: 11\n",
      "\n",
      "Precio promedio de casas con calefacción de agua: $5,559,960.00\n",
      "Precio promedio de casas sin calefacción de agua: $4,728,593.15\n",
      "\n",
      "El tipo de amueblamiento más común en casas con aire acondicionado es: semi-furnished\n"
     ]
    }
   ],
   "source": [
    "# 1: ¿Cuántas casas tienen más de 2 baños y 3 dormitorios?\n",
    "casas_grandes = df_housing[(df_housing['bathrooms'] > 2) & (df_housing['bedrooms'] >= 3)]\n",
    "print(f\"Número de casas con más de 2 baños y 3 o más dormitorios: {casas_grandes.shape[0]}\")\n",
    "\n",
    "# 2: ¿Cuál es el precio promedio de las casas con calefacción de agua (hotwaterheating) en comparación con las que no?\n",
    "precio_con_calefaccion = df_housing[df_housing['hotwaterheating'] == 'yes']['price'].mean()\n",
    "precio_sin_calefaccion = df_housing[df_housing['hotwaterheating'] == 'no']['price'].mean()\n",
    "print(f\"\\nPrecio promedio de casas con calefacción de agua: ${precio_con_calefaccion:,.2f}\")\n",
    "print(f\"Precio promedio de casas sin calefacción de agua: ${precio_sin_calefaccion:,.2f}\")\n",
    "\n",
    "# 3: ¿Cuál es el tipo de amueblamiento más común entre las casas con aire acondicionado?\n",
    "amueblamiento_mas_comun = df_housing[df_housing['airconditioning'] == 'yes']['furnishingstatus'].mode()[0]\n",
    "print(f\"\\nEl tipo de amueblamiento más común en casas con aire acondicionado es: {amueblamiento_mas_comun}\")"
   ]
  },
  {
   "cell_type": "markdown",
   "id": "ea3c6582-0d7f-44fc-8e21-fc85c64a1287",
   "metadata": {},
   "source": [
    "#  KPIs y datos que permitan a una persona sin conocer el negocio a fondo, darse cuenta de sus magnitudes"
   ]
  },
  {
   "cell_type": "code",
   "execution_count": 4,
   "id": "379521d0-1e9f-4c7d-86a1-8671536a2222",
   "metadata": {},
   "outputs": [
    {
     "name": "stdout",
     "output_type": "stream",
     "text": [
      "El tamaño promedio de una casa es de 5,150.54 pies cuadrados.\n",
      "El 45.14% de las casas en el mercado tienen estacionamiento.\n",
      "El rango de precios de las casas va desde $1,750,000.00 hasta $13,300,000.00.\n"
     ]
    }
   ],
   "source": [
    "# KPI 1: El tamaño promedio del área de una casa.\n",
    "promedio_area = df_housing['area'].mean()\n",
    "print(f\"El tamaño promedio de una casa es de {promedio_area:,.2f} pies cuadrados.\")\n",
    "\n",
    "\n",
    "# KPI 2: Porcentaje de casas con estacionamiento.\n",
    "casas_con_estacionamiento = df_housing[df_housing['parking'] > 0].shape[0]\n",
    "porcentaje_estacionamiento = (casas_con_estacionamiento / df_housing.shape[0]) * 100\n",
    "print(f\"El {porcentaje_estacionamiento:,.2f}% de las casas en el mercado tienen estacionamiento.\")\n",
    "\n",
    "# KPI 3: El rango de precios del mercado inmobiliario.\n",
    "precio_minimo = df_housing['price'].min()\n",
    "precio_maximo = df_housing['price'].max()\n",
    "print(f\"El rango de precios de las casas va desde ${precio_minimo:,.2f} hasta ${precio_maximo:,.2f}.\")"
   ]
  },
  {
   "cell_type": "code",
   "execution_count": null,
   "id": "3f4f4b98-9577-4228-9fe4-f7f49ace410c",
   "metadata": {},
   "outputs": [],
   "source": []
  }
 ],
 "metadata": {
  "kernelspec": {
   "display_name": "Python 3 (ipykernel)",
   "language": "python",
   "name": "python3"
  },
  "language_info": {
   "codemirror_mode": {
    "name": "ipython",
    "version": 3
   },
   "file_extension": ".py",
   "mimetype": "text/x-python",
   "name": "python",
   "nbconvert_exporter": "python",
   "pygments_lexer": "ipython3",
   "version": "3.12.7"
  }
 },
 "nbformat": 4,
 "nbformat_minor": 5
}
